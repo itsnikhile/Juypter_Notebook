{
 "cells": [
  {
   "cell_type": "markdown",
   "id": "1946029d-d470-4af7-b7f1-c2bb4a2d5b1b",
   "metadata": {},
   "source": [
    "## Data Science Tools and Ecosystem"
   ]
  },
  {
   "cell_type": "markdown",
   "id": "2f7501c3-51fe-48e5-96db-deaa4cee4404",
   "metadata": {},
   "source": [
    "In this notebook, Data Science Tools and Ecosystem are summarized."
   ]
  },
  {
   "cell_type": "markdown",
   "id": "d26a8424-49e2-47aa-950b-fbb0faec07ea",
   "metadata": {},
   "source": [
    "**Objectives:**\n",
    "\n",
    "unordered list\n",
    "\n",
    "+ R\n",
    "+ SQL\n",
    "+ Python\n",
    "+ Julia\n",
    "+ Java"
   ]
  },
  {
   "cell_type": "markdown",
   "id": "62904c39-b600-4efa-ae4a-c031b5f539ee",
   "metadata": {},
   "source": [
    "Some of the popular languages that Data Scientists use are:\n",
    "\n",
    "1. R Programming\n",
    "2. Python\n",
    "3. Java Script"
   ]
  },
  {
   "cell_type": "markdown",
   "id": "3a17edc4-3787-424b-bd76-ee5f9057de08",
   "metadata": {},
   "source": [
    "Some of the commonly used libraries used by Data Scientists include:\n",
    "\n",
    "1. Tensor Flow\n",
    "2. SciPy\n",
    "3. NumPy\n",
    "4. Pandas\n",
    "5. PyTorch"
   ]
  },
  {
   "cell_type": "markdown",
   "id": "1ed8915a-caec-4aa8-a0a8-20d7d9a22e9e",
   "metadata": {},
   "source": [
    "| Data Science Tools |\n",
    "| ----------------- |\n",
    "| Jupyter Notebook  |\n",
    "| RStudio           |\n",
    "| VS Code           |\n"
   ]
  },
  {
   "cell_type": "markdown",
   "id": "01a1038c-ed81-40cf-b85b-172fe8408ff8",
   "metadata": {},
   "source": [
    "### Below are a few examples of evaluating arithmetic expressions in Python"
   ]
  },
  {
   "cell_type": "code",
   "execution_count": 4,
   "id": "3ab6fc22-19da-47a6-a10e-f84d734648e2",
   "metadata": {},
   "outputs": [
    {
     "data": {
      "text/plain": [
       "17"
      ]
     },
     "execution_count": 4,
     "metadata": {},
     "output_type": "execute_result"
    }
   ],
   "source": [
    "## This a simple arithmetic expression to mutiply then add integers\n",
    "(3*4)+5"
   ]
  },
  {
   "cell_type": "code",
   "execution_count": 5,
   "id": "92dbd780-e05d-43bd-93ac-c20d7e0efa24",
   "metadata": {},
   "outputs": [
    {
     "data": {
      "text/plain": [
       "3.3333333333333335"
      ]
     },
     "execution_count": 5,
     "metadata": {},
     "output_type": "execute_result"
    }
   ],
   "source": [
    "## This will convert 200 minutes to hours by diving by 60\n",
    "200/60"
   ]
  },
  {
   "cell_type": "markdown",
   "id": "706de86d-2447-4c1d-b57c-8b417a6e8fd1",
   "metadata": {},
   "source": [
    "## Author\n",
    "Nikhil Eatalpacka"
   ]
  },
  {
   "cell_type": "code",
   "execution_count": null,
   "id": "ebc11de9-3446-4cae-bc64-3171bc7bbe72",
   "metadata": {},
   "outputs": [],
   "source": []
  }
 ],
 "metadata": {
  "kernelspec": {
   "display_name": "Python 3 (ipykernel)",
   "language": "python",
   "name": "python3"
  },
  "language_info": {
   "codemirror_mode": {
    "name": "ipython",
    "version": 3
   },
   "file_extension": ".py",
   "mimetype": "text/x-python",
   "name": "python",
   "nbconvert_exporter": "python",
   "pygments_lexer": "ipython3",
   "version": "3.10.9"
  }
 },
 "nbformat": 4,
 "nbformat_minor": 5
}
